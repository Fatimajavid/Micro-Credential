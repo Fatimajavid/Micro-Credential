{
  "nbformat": 4,
  "nbformat_minor": 0,
  "metadata": {
    "colab": {
      "name": "Unit 2 Lesson 3 Assignments.ipynb",
      "provenance": [],
      "authorship_tag": "ABX9TyOMNHLgLbmGNVvxghZyN0Nw",
      "include_colab_link": true
    },
    "kernelspec": {
      "name": "python3",
      "display_name": "Python 3"
    }
  },
  "cells": [
    {
      "cell_type": "markdown",
      "metadata": {
        "id": "view-in-github",
        "colab_type": "text"
      },
      "source": [
        "<a href=\"https://colab.research.google.com/github/Fatimajavid/Micro-Credential/blob/main/Unit_2_Lesson_3_Assignments.ipynb\" target=\"_parent\"><img src=\"https://colab.research.google.com/assets/colab-badge.svg\" alt=\"Open In Colab\"/></a>"
      ]
    },
    {
      "cell_type": "markdown",
      "metadata": {
        "id": "FnG-E0WSscOD"
      },
      "source": [
        "Question 1 : Create a list of 5 of your favorite tv shows.  "
      ]
    },
    {
      "cell_type": "code",
      "metadata": {
        "colab": {
          "base_uri": "https://localhost:8080/"
        },
        "id": "x0YxTdpxs9OU",
        "outputId": "0427b6e0-8175-46ac-ca32-ae796b03bd76"
      },
      "source": [
        "tvshows = ['The Suite Life of Zack and Cody', 'Jessie', 'Lucifer', 'Resurrection Erturgul', 'Suits']"
      ],
      "execution_count": 1,
      "outputs": [
        {
          "output_type": "stream",
          "text": [
            "['The Suite Life of Zack and Cody', 'Jessie', 'Lucifer', 'Resurrection Erturgul', 'Suits']\n"
          ],
          "name": "stdout"
        }
      ]
    },
    {
      "cell_type": "markdown",
      "metadata": {
        "id": "IDCZhpaEtzR9"
      },
      "source": [
        "Question 2 : Print the list in its original order."
      ]
    },
    {
      "cell_type": "code",
      "metadata": {
        "colab": {
          "base_uri": "https://localhost:8080/"
        },
        "id": "mEkN61nut5A8",
        "outputId": "efa4201a-736b-4e42-b67a-4f0fce54182d"
      },
      "source": [
        "print(tvshows)"
      ],
      "execution_count": 2,
      "outputs": [
        {
          "output_type": "stream",
          "text": [
            "['The Suite Life of Zack and Cody', 'Jessie', 'Lucifer', 'Resurrection Erturgul', 'Suits']\n"
          ],
          "name": "stdout"
        }
      ]
    },
    {
      "cell_type": "markdown",
      "metadata": {
        "id": "to1RKRzot9Xj"
      },
      "source": [
        "Question 3 : Use the sorted() function to print the list in alphabetical order.  How is sorted() different from sort()?"
      ]
    },
    {
      "cell_type": "code",
      "metadata": {
        "colab": {
          "base_uri": "https://localhost:8080/"
        },
        "id": "aCbxJy5ouEtO",
        "outputId": "f304b7cb-630a-400a-e2aa-9049895e84df"
      },
      "source": [
        "shows = sorted(tvshows)\r\n",
        "#movies.sort   I would use the sort function is I want to permanently rearrange the original list.\r\n",
        "print(shows)\r\n",
        "#print(sorted())     This is not permanent and would not rearrange the original list."
      ],
      "execution_count": 9,
      "outputs": [
        {
          "output_type": "stream",
          "text": [
            "['Jessie', 'Lucifer', 'Resurrection Erturgul', 'Suits', 'The Suite Life of Zack and Cody']\n"
          ],
          "name": "stdout"
        }
      ]
    },
    {
      "cell_type": "markdown",
      "metadata": {
        "id": "ibMzVEbFviQp"
      },
      "source": [
        "Sort is permanent while sorted is not permanent, so you would use sort if you want to rearrange everything, otherwise you can use sorted, if you just want to print out a sorted/alphabetical list without the original list rearranging itself. "
      ]
    },
    {
      "cell_type": "markdown",
      "metadata": {
        "id": "s2GLsNWgyBGo"
      },
      "source": [
        "Question 4: Print out your original list."
      ]
    },
    {
      "cell_type": "code",
      "metadata": {
        "colab": {
          "base_uri": "https://localhost:8080/"
        },
        "id": "VPDGURO7yLri",
        "outputId": "f596106a-b7f8-451b-e8d9-c7e032a791b9"
      },
      "source": [
        "print(tvshows)   #since I had used sorted before the order of the list did not change."
      ],
      "execution_count": 10,
      "outputs": [
        {
          "output_type": "stream",
          "text": [
            "['Jessie', 'Lucifer', 'Resurrection Erturgul', 'Suits', 'The Suite Life of Zack and Cody']\n"
          ],
          "name": "stdout"
        }
      ]
    },
    {
      "cell_type": "markdown",
      "metadata": {
        "id": "Gt0LkcXoyVX8"
      },
      "source": [
        "Question 5 : Used sorted() to print your list in reverse alphabetical order."
      ]
    },
    {
      "cell_type": "code",
      "metadata": {
        "colab": {
          "base_uri": "https://localhost:8080/"
        },
        "id": "1C5sJ4LXyb6r",
        "outputId": "e3cdf329-9113-4c68-a073-36bb83f2652c"
      },
      "source": [
        "print(\"Reverse alphabetical:\")\r\n",
        "print(sorted(tvshows, reverse=True))"
      ],
      "execution_count": 12,
      "outputs": [
        {
          "output_type": "stream",
          "text": [
            "Reverse alphabetical:\n",
            "['The Suite Life of Zack and Cody', 'Suits', 'Resurrection Erturgul', 'Lucifer', 'Jessie']\n"
          ],
          "name": "stdout"
        }
      ]
    },
    {
      "cell_type": "markdown",
      "metadata": {
        "id": "Jlsq1kD9zDVU"
      },
      "source": [
        "Question 6 : Create a message indicating how many favorite TV shows you have – use the len() function."
      ]
    },
    {
      "cell_type": "code",
      "metadata": {
        "colab": {
          "base_uri": "https://localhost:8080/"
        },
        "id": "0ANFw6XrzEbj",
        "outputId": "484cb1e5-3d08-477e-9261-d8d76b6856f2"
      },
      "source": [
        "print(\"I have \" + str(len(tvshows)) + \" favorite Tv shows.\")"
      ],
      "execution_count": 20,
      "outputs": [
        {
          "output_type": "stream",
          "text": [
            "I have 5 favorite Tv shows.\n"
          ],
          "name": "stdout"
        }
      ]
    }
  ]
}