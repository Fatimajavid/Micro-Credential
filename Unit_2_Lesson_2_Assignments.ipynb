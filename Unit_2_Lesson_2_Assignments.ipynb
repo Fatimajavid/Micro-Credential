{
  "nbformat": 4,
  "nbformat_minor": 0,
  "metadata": {
    "colab": {
      "name": "Unit 2 Lesson 2 Assignments.ipynb",
      "provenance": [],
      "authorship_tag": "ABX9TyMPnI5i+/aHzifYu6TDA3x1",
      "include_colab_link": true
    },
    "kernelspec": {
      "name": "python3",
      "display_name": "Python 3"
    }
  },
  "cells": [
    {
      "cell_type": "markdown",
      "metadata": {
        "id": "view-in-github",
        "colab_type": "text"
      },
      "source": [
        "<a href=\"https://colab.research.google.com/github/Fatimajavid/Micro-Credential/blob/main/Unit_2_Lesson_2_Assignments.ipynb\" target=\"_parent\"><img src=\"https://colab.research.google.com/assets/colab-badge.svg\" alt=\"Open In Colab\"/></a>"
      ]
    },
    {
      "cell_type": "markdown",
      "metadata": {
        "id": "2Po7y1dwjDs3"
      },
      "source": [
        "Unit 2 Lesson 2 and 3 Assignments"
      ]
    },
    {
      "cell_type": "markdown",
      "metadata": {
        "id": "y7wRDE7j0K6d"
      },
      "source": [
        "Question 1 : What is Python and why is it useful?"
      ]
    },
    {
      "cell_type": "markdown",
      "metadata": {
        "id": "d7N8oetp0QhF"
      },
      "source": [
        "Python is a powerful language and a preferred tool for Data Science. Python is useful for Data Science because it has many packages that allow us to perform many functions such as Numpy and Pandas. It is also easy to use and very flexible."
      ]
    },
    {
      "cell_type": "markdown",
      "metadata": {
        "id": "4U4yWwCH0nVo"
      },
      "source": [
        "Question 2 : Are the following variable names allowed in python?"
      ]
    },
    {
      "cell_type": "markdown",
      "metadata": {
        "id": "ZLcDQACR0tJn"
      },
      "source": [
        "a. 1_message : No     \r\n"
      ]
    },
    {
      "cell_type": "markdown",
      "metadata": {
        "id": "j0HYWb9Y3L7-"
      },
      "source": [
        "b. Greeting_message : Yes"
      ]
    },
    {
      "cell_type": "markdown",
      "metadata": {
        "id": "LEusbdjT4U5X"
      },
      "source": [
        "c. Message_1 : Yes"
      ]
    },
    {
      "cell_type": "markdown",
      "metadata": {
        "id": "j2G9Wwox4bXo"
      },
      "source": [
        "d. First name : No "
      ]
    },
    {
      "cell_type": "markdown",
      "metadata": {
        "id": "nQ8bVaf94eaV"
      },
      "source": [
        "e. Full_name : Yes"
      ]
    },
    {
      "cell_type": "markdown",
      "metadata": {
        "id": "k6rWP5qgsMzK"
      },
      "source": [
        "Question 3\t: Create a variable that holds the string “hello there!”"
      ]
    },
    {
      "cell_type": "code",
      "metadata": {
        "id": "fmXoYVVVjIVZ",
        "colab": {
          "base_uri": "https://localhost:8080/"
        },
        "outputId": "cd71aa7f-d370-4668-e6f7-fef7011f650d"
      },
      "source": [
        "Hello = \"hello there!\"\r\n",
        "print(Hello)"
      ],
      "execution_count": 10,
      "outputs": [
        {
          "output_type": "stream",
          "text": [
            "hello there!\n"
          ],
          "name": "stdout"
        }
      ]
    },
    {
      "cell_type": "markdown",
      "metadata": {
        "id": "4ngJv24CrN99"
      },
      "source": [
        "Question 4\t: Create a variable for first name, last name and an email extension. Concatenating all three together to form an email address.  For example: firstnamelastname@gmail.com"
      ]
    },
    {
      "cell_type": "code",
      "metadata": {
        "id": "8L1JnpmEmRSK",
        "colab": {
          "base_uri": "https://localhost:8080/"
        },
        "outputId": "d4f7a9b4-462a-4ccd-f135-32bcd8719522"
      },
      "source": [
        "FirstName = input(\"Enter your first name: \")\r\n",
        "LastName =  input(\"Enter your last name: \")\r\n",
        "email = input(\"Enter your email extension: \")\r\n",
        "print(FirstName + LastName + \"@\" + email)"
      ],
      "execution_count": 8,
      "outputs": [
        {
          "output_type": "stream",
          "text": [
            "Enter your first name: Usman\n",
            "Enter your last name: Javid\n",
            "Enter your email extension: gmail.com\n",
            "UsmanJavid@gmail.com\n"
          ],
          "name": "stdout"
        }
      ]
    },
    {
      "cell_type": "markdown",
      "metadata": {
        "id": "xpcesAGbq8S-"
      },
      "source": [
        "Question 5 : Store someone you know name in a variable called name.  Print their name in lower and uppercase using a method."
      ]
    },
    {
      "cell_type": "code",
      "metadata": {
        "colab": {
          "base_uri": "https://localhost:8080/"
        },
        "id": "Oz_s0RYwp7QS",
        "outputId": "ad8098b9-e58d-41f7-f668-6e329310ffd4"
      },
      "source": [
        "name = \"Usman Javid\"\r\n",
        "print(name.lower())\r\n",
        "print(name.upper())"
      ],
      "execution_count": 12,
      "outputs": [
        {
          "output_type": "stream",
          "text": [
            "usman javid\n",
            "USMAN JAVID\n"
          ],
          "name": "stdout"
        }
      ]
    },
    {
      "cell_type": "markdown",
      "metadata": {
        "id": "7Ztqe2tsrUyD"
      },
      "source": [
        "Question 6 : Using a variable, ask your friend if they want to hang out on the 15th of the month.  For example, “Do you want to hang out on the 15th of this month?”  You should have to convert the number to a string."
      ]
    },
    {
      "cell_type": "code",
      "metadata": {
        "colab": {
          "base_uri": "https://localhost:8080/"
        },
        "id": "J0b6-go7raBl",
        "outputId": "3012f1a5-162f-436d-d7e2-fccd844b3609"
      },
      "source": [
        "Month = input(\"Do you want to hang out on the 15th of this month? \")\r\n",
        "print(Month)"
      ],
      "execution_count": 13,
      "outputs": [
        {
          "output_type": "stream",
          "text": [
            "Do you want to hang out on the 15th of this month? No\n",
            "No\n"
          ],
          "name": "stdout"
        }
      ]
    }
  ]
}